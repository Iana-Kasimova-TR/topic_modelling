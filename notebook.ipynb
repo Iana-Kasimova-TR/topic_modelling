{
 "cells": [
  {
   "cell_type": "code",
   "execution_count": 1,
   "metadata": {},
   "outputs": [],
   "source": [
    "import topic_model as tm\n",
    "\n",
    "import numpy as np\n",
    "from numpy import linalg as LA\n",
    "import pandas as pd\n",
    "from sklearn import preprocessing\n",
    "#from gensim.corpora import Dictionary\n",
    "#from gensim.models.ldamodel import LdaModel\n",
    "#from gensim.similarities import MatrixSimilarity"
   ]
  },
  {
   "cell_type": "markdown",
   "metadata": {},
   "source": [
    "Custom LSA model"
   ]
  },
  {
   "cell_type": "code",
   "execution_count": 2,
   "metadata": {},
   "outputs": [
    {
     "name": "stderr",
     "output_type": "stream",
     "text": [
      "/Users/Iana_Kasimova/Documents/mentoring/topic_modelling/topic_model.py:114: RuntimeWarning: divide by zero encountered in true_divide\n",
      "  dataframe = tf_part.multiply(np.log(number_docs / item))\n"
     ]
    }
   ],
   "source": [
    "U, model, dict_token = tm.fit(path_to_file='BBC News Train.csv', number_text_column=1, n_components=5, n_iter=50, random_state=42, quantity_threshold_up=100000, quantity_threshold_down=10, algorithm='randomized')"
   ]
  },
  {
   "cell_type": "code",
   "execution_count": 6,
   "metadata": {},
   "outputs": [
    {
     "name": "stdout",
     "output_type": "stream",
     "text": [
      "Topic 0: \n",
      "film mobile game best award phone people music firm sale \n",
      "\n",
      "Topic 1: \n",
      "faroe cyprus switzerland republic israel island ireland france kerr qualifier \n",
      "\n",
      "Topic 2: \n",
      "film award best actor actress oscar festival star nomination foxx \n",
      "\n",
      "Topic 3: \n",
      "mobile phone virus film email user microsoft software program search \n",
      "\n",
      "Topic 4: \n",
      "game roddick england chelsea match player nadal cup champion win \n",
      "\n"
     ]
    }
   ],
   "source": [
    "k = 10\n",
    "\n",
    "tm.get_keywords_for_topic(k, model, dict_token) \n"
   ]
  },
  {
   "cell_type": "code",
   "execution_count": 4,
   "metadata": {},
   "outputs": [
    {
     "data": {
      "text/plain": [
       "{0: array([630, 536, 763, 672, 606])}"
      ]
     },
     "execution_count": 4,
     "metadata": {},
     "output_type": "execute_result"
    }
   ],
   "source": [
    "tm.predict(U, [0], 5)"
   ]
  },
  {
   "cell_type": "code",
   "execution_count": 5,
   "metadata": {},
   "outputs": [
    {
     "data": {
      "text/plain": [
       "0.6079194630872483"
      ]
     },
     "execution_count": 5,
     "metadata": {},
     "output_type": "execute_result"
    }
   ],
   "source": [
    "df = pd.read_csv('BBC News Train.csv', sep=',')\n",
    "le = preprocessing.LabelEncoder()\n",
    "le.fit(df.Category)\n",
    "tr = le.transform(df.Category)\n",
    "tm.calc_map_metric(5, U, tr)"
   ]
  },
  {
   "cell_type": "markdown",
   "metadata": {},
   "source": [
    "Gensim model"
   ]
  },
  {
   "cell_type": "code",
   "execution_count": 8,
   "metadata": {},
   "outputs": [],
   "source": [
    "text_tokenize = [tm.clean_text(text) for text in df.Text]\n",
    "idToWord = Dictionary(text_tokenize)\n",
    "corpus = [idToWord.doc2bow(text) for text in text_tokenize]\n",
    "lda_model = LdaModel(corpus=corpus, id2word=idToWord, num_topics=20)"
   ]
  },
  {
   "cell_type": "code",
   "execution_count": 16,
   "metadata": {},
   "outputs": [
    {
     "data": {
      "text/plain": [
       "0.8453691275167785"
      ]
     },
     "execution_count": 16,
     "metadata": {},
     "output_type": "execute_result"
    }
   ],
   "source": [
    "index = MatrixSimilarity(lda_model[corpus])\n",
    "lda_vec = lda_model[corpus]\n",
    "sims = index[lda_vec]\n",
    "\n",
    "k = 5\n",
    "sim_docs = sims[:sims.shape[0], :k]\n",
    "sorted_sim_docs = np.argpartition(-sims, axis=0, kth=k)\n",
    "sorted_sim_docs = sorted_sim_docs[:sorted_sim_docs.shape[0], :k]\n",
    "tm.calc_metric_for_simularity_matrix(sorted_sim_docs, tr, k)"
   ]
  }
 ],
 "metadata": {
  "interpreter": {
   "hash": "397704579725e15f5c7cb49fe5f0341eb7531c82d19f2c29d197e8b64ab5776b"
  },
  "kernelspec": {
   "display_name": "Python 3.9.5 64-bit",
   "language": "python",
   "name": "python3"
  },
  "language_info": {
   "codemirror_mode": {
    "name": "ipython",
    "version": 3
   },
   "file_extension": ".py",
   "mimetype": "text/x-python",
   "name": "python",
   "nbconvert_exporter": "python",
   "pygments_lexer": "ipython3",
   "version": "3.9.7"
  },
  "orig_nbformat": 4
 },
 "nbformat": 4,
 "nbformat_minor": 2
}
