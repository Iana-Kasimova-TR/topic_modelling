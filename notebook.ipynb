{
 "cells": [
  {
   "cell_type": "code",
   "execution_count": 1,
   "metadata": {},
   "outputs": [
    {
     "name": "stderr",
     "output_type": "stream",
     "text": [
      "/Users/Iana_Kasimova/Documents/mentoring/topic_modelling/topic_model.py:101: RuntimeWarning: divide by zero encountered in true_divide\n",
      "  dataframe = tf_part.multiply(np.log(number_docs / item))\n"
     ]
    }
   ],
   "source": [
    "import topic_model as tm\n",
    "\n",
    "U = tm.fit('BBC News Train.csv', 'Text')\n"
   ]
  },
  {
   "cell_type": "code",
   "execution_count": 2,
   "metadata": {},
   "outputs": [
    {
     "data": {
      "text/plain": [
       "array([[ 0.00098539,  0.00014479,  0.00063269,  0.00496441, -0.0010386 ],\n",
       "       [ 0.00129852,  0.00035198,  0.00100045,  0.00412534, -0.00078192],\n",
       "       [ 0.00102061,  0.00054131,  0.00155007,  0.00534431,  0.00023001],\n",
       "       ...,\n",
       "       [ 0.00283545,  0.00137167,  0.0025738 ,  0.01651249, -0.00574137],\n",
       "       [ 0.00609889,  0.00164734,  0.00414747,  0.02410214, -0.00606042],\n",
       "       [ 0.00523637,  0.00049137,  0.00195224,  0.02000874, -0.00686223]])"
      ]
     },
     "execution_count": 2,
     "metadata": {},
     "output_type": "execute_result"
    }
   ],
   "source": [
    "U"
   ]
  },
  {
   "cell_type": "code",
   "execution_count": 4,
   "metadata": {},
   "outputs": [
    {
     "data": {
      "text/plain": [
       "array([ 527, 1183, 1320,  465,    0])"
      ]
     },
     "execution_count": 4,
     "metadata": {},
     "output_type": "execute_result"
    }
   ],
   "source": [
    "import numpy as np\n",
    "from numpy import linalg as LA\n",
    "\n",
    "tm.predict(U, 0, 5)"
   ]
  },
  {
   "cell_type": "code",
   "execution_count": 7,
   "metadata": {},
   "outputs": [],
   "source": [
    "import pandas as pd\n",
    "\n",
    "df = pd.read_csv('BBC News Train.csv', sep=',')\n",
    "\n",
    "mark = tm.get_correctness_doc_count(df, 0, U, 10, 'Category')"
   ]
  },
  {
   "cell_type": "code",
   "execution_count": 8,
   "metadata": {},
   "outputs": [
    {
     "data": {
      "text/plain": [
       "0.2"
      ]
     },
     "execution_count": 8,
     "metadata": {},
     "output_type": "execute_result"
    }
   ],
   "source": [
    "mark"
   ]
  }
 ],
 "metadata": {
  "interpreter": {
   "hash": "397704579725e15f5c7cb49fe5f0341eb7531c82d19f2c29d197e8b64ab5776b"
  },
  "kernelspec": {
   "display_name": "Python 3.9.5 64-bit",
   "language": "python",
   "name": "python3"
  },
  "language_info": {
   "codemirror_mode": {
    "name": "ipython",
    "version": 3
   },
   "file_extension": ".py",
   "mimetype": "text/x-python",
   "name": "python",
   "nbconvert_exporter": "python",
   "pygments_lexer": "ipython3",
   "version": "3.9.5"
  },
  "orig_nbformat": 4
 },
 "nbformat": 4,
 "nbformat_minor": 2
}
